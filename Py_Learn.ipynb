{
 "cells": [
  {
   "cell_type": "markdown",
   "metadata": {},
   "source": [
    "## This is a Basic Python Learning Notebook Sheet"
   ]
  },
  {
   "cell_type": "markdown",
   "metadata": {},
   "source": [
    "### In this sheet we'll gonna look at\n",
    "- Data Types in python\n",
    "- if, elif, else statement in python\n",
    "- Predefined usseful functions\n",
    "- Math Library\n",
    "- For, while loop in python\n",
    "- Functions\n",
    "- Classes"
   ]
  },
  {
   "cell_type": "markdown",
   "metadata": {},
   "source": [
    "### Data Types in Python\n",
    "- Strings\n",
    "- Integer\n",
    "- List\n",
    "- Dictionary"
   ]
  },
  {
   "cell_type": "code",
   "execution_count": null,
   "metadata": {},
   "outputs": [],
   "source": [
    "# Data Types in Python\n"
   ]
  }
 ],
 "metadata": {
  "language_info": {
   "name": "python"
  },
  "orig_nbformat": 4
 },
 "nbformat": 4,
 "nbformat_minor": 2
}
